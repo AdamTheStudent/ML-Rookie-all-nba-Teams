{
 "cells": [
  {
   "cell_type": "markdown",
   "id": "6cb23abc-9e87-4ca2-8363-e44691c2f2c4",
   "metadata": {},
   "source": [
    "# Projekt WZUM predykcja all-NBA team i \n",
    "# all-rookie-team cz. 3"
   ]
  },
  {
   "cell_type": "markdown",
   "id": "b1aa3493-75fc-47f1-ab26-0eff9af3abdb",
   "metadata": {},
   "source": [
    "## Wczytanie danych"
   ]
  },
  {
   "cell_type": "code",
   "execution_count": null,
   "id": "1b1a1f24-aa8f-481a-9dba-7ccf7972a169",
   "metadata": {},
   "outputs": [],
   "source": [
    "import pandas as pd "
   ]
  },
  {
   "cell_type": "code",
   "execution_count": null,
   "id": "f69a22e4-854e-476e-bc31-dc0f224cc4d1",
   "metadata": {},
   "outputs": [],
   "source": [
    "all_nba_data = pd.read_csv(\"./csv/all_nba_cleaned.csv\")\n",
    "all_rookie_data = pd.read_csv(\"./csv/all_rookies_cleaned.csv\")"
   ]
  },
  {
   "cell_type": "code",
   "execution_count": null,
   "id": "c39372f5-eaa8-4426-8785-31faefb38f86",
   "metadata": {},
   "outputs": [],
   "source": [
    "all_nba_data = all_nba_data.drop([\"Unnamed: 0\"],axis=1)\n",
    "all_rookie_data = all_rookie_data.drop([\"Unnamed: 0\"],axis=1)"
   ]
  },
  {
   "cell_type": "code",
   "execution_count": null,
   "id": "208489c2-9e4b-42e5-97dc-b63da83658a3",
   "metadata": {},
   "outputs": [],
   "source": [
    "all_nba_data = all_nba_data.dropna(subset=['Pos'])\n",
    "# pd.isnull(all_nba_data)\n",
    "# pd.isnull(all_nba_data).sum()\n",
    "# pd.isnull(all_rookie_data).sum()\n",
    "all_nba_data=all_nba_data.fillna(0)\n",
    "all_rookie_data=all_rookie_data.fillna(0)"
   ]
  },
  {
   "cell_type": "markdown",
   "id": "c114ee18-f457-4283-91db-5df30a8bf492",
   "metadata": {},
   "source": [
    "## Podzial danych do uczenia"
   ]
  },
  {
   "cell_type": "code",
   "execution_count": null,
   "id": "dea65b88-ec2b-4df0-96d9-fdeb7b5327eb",
   "metadata": {},
   "outputs": [],
   "source": [
    "all_nba_data.columns"
   ]
  },
  {
   "cell_type": "code",
   "execution_count": null,
   "id": "0be08f5b-5236-4263-b127-273822c11652",
   "metadata": {},
   "outputs": [],
   "source": [
    "all_rookie_data.columns"
   ]
  },
  {
   "cell_type": "code",
   "execution_count": null,
   "id": "3b38d632-c7a4-43d5-a60a-209744e0f895",
   "metadata": {},
   "outputs": [],
   "source": [
    "p_all_nba = ['Age', 'G', 'GS', 'MP', 'FG', 'FGA', 'FG%', '3P',\n",
    "       '3PA', '3P%', '2P', '2PA', '2P%', 'eFG%', 'FT', 'FTA', 'FT%', 'ORB',\n",
    "       'DRB', 'TRB', 'AST', 'STL', 'BLK', 'TOV', 'PF', 'PTS', 'season']\n",
    "\n",
    "p_all_rookie = [ 'Age', 'G', 'FG', 'FGA', '3P', '3PA',\n",
    "       'FT', 'FTA', 'ORB', 'TOV', 'PF', \n",
    "       'FG%', '3P%', 'FT%', 'MP.1', 'PTS.1', 'TRB.1', 'AST.1', 'STL.1',\n",
    "       'BLK.1', 'season']\n",
    "#  'GS', 'eFG%', 'DRB' "
   ]
  },
  {
   "cell_type": "code",
   "execution_count": null,
   "id": "a53f00dc-f925-46ea-8d74-586fda8be6fc",
   "metadata": {},
   "outputs": [],
   "source": [
    "# pd.isnull(all_nba_data).sum()"
   ]
  },
  {
   "cell_type": "code",
   "execution_count": null,
   "id": "e8ba17aa-cdd7-484f-9ff4-14408f1c42df",
   "metadata": {},
   "outputs": [],
   "source": [
    "train_all_nba = all_nba_data[all_nba_data[\"season\"] <2024]\n",
    "test_all_nba = all_nba_data[all_nba_data[\"season\"] == 2024]\n",
    "\n",
    "train_all_rookie = all_rookie_data[all_rookie_data[\"season\"] <2024]\n",
    "test_all_rookie = all_rookie_data[all_rookie_data[\"season\"] == 2024]"
   ]
  },
  {
   "cell_type": "markdown",
   "id": "07ff2919-fd38-4f2e-968d-cf42ad98f3ce",
   "metadata": {},
   "source": [
    "# Testowanie modeli"
   ]
  },
  {
   "cell_type": "markdown",
   "id": "88d31969-43ce-400a-a493-40ecf8298e47",
   "metadata": {},
   "source": [
    "## **Test modelu regresji liniowej**"
   ]
  },
  {
   "cell_type": "code",
   "execution_count": null,
   "id": "21e767c3-cc2a-4d15-bca7-25046e0e4ec6",
   "metadata": {},
   "outputs": [],
   "source": [
    "from sklearn.linear_model import LinearRegression"
   ]
  },
  {
   "cell_type": "code",
   "execution_count": null,
   "id": "785d29ce-1de3-429f-b743-6f5a6da5ba8e",
   "metadata": {},
   "outputs": [],
   "source": [
    "model1 = LinearRegression()\n",
    "model1.fit(train_all_nba[p_all_nba],train_all_nba[\"Share\"])\n",
    "\n",
    "model2 = LinearRegression()\n",
    "model2.fit(train_all_rookie[p_all_rookie],train_all_rookie[\"Share\"])"
   ]
  },
  {
   "cell_type": "code",
   "execution_count": null,
   "id": "4bf6ee31-9a1f-49f3-a667-50bf6b92719d",
   "metadata": {},
   "outputs": [],
   "source": [
    "predykcja_all_nba = model1.predict(test_all_nba[p_all_nba])\n",
    "predykcja_all_nba= pd.DataFrame(predykcja_all_nba,columns =[\"Wynik all nba\"],index=test_all_nba.index)\n",
    "wyniki_all_nba = pd.concat([test_all_nba[[\"Player\",\"Share\"]],predykcja_all_nba ] ,axis=1).sort_values(\"Wynik all nba\",ascending = False).head(20)\n",
    "\n",
    "predykcja_rookie = model2.predict(test_all_rookie[p_all_rookie])\n",
    "predykcja_rookie= pd.DataFrame(predykcja_rookie,columns =[\"Wynik rookie\"],index=test_all_rookie.index)\n",
    "wyniki_all_rookie = pd.concat([test_all_rookie[[\"Player\",\"Share\"]],predykcja_rookie ] ,axis=1).sort_values(\"Wynik rookie\",ascending = False).head(15)\n",
    "\n"
   ]
  },
  {
   "cell_type": "code",
   "execution_count": null,
   "id": "8bc7433a-1226-4541-9c14-30d2c94dc530",
   "metadata": {},
   "outputs": [],
   "source": [
    "wyniki_all_nba\n",
    "#Joel Embiid zagral za malo spotkan"
   ]
  },
  {
   "cell_type": "code",
   "execution_count": null,
   "id": "05e40da9-fa7c-4b5c-97ea-8bcb5079a081",
   "metadata": {},
   "outputs": [],
   "source": [
    "from scipy.stats import spearmanr\n",
    "spearman_corr, _ = spearmanr(wyniki_all_nba['Share'], wyniki_all_nba['Wynik all nba'])\n",
    "spearman_corr\n"
   ]
  },
  {
   "cell_type": "code",
   "execution_count": null,
   "id": "7dd82986-01e1-4640-97eb-487159dd6f1e",
   "metadata": {},
   "outputs": [],
   "source": [
    "from sklearn.metrics import mean_absolute_error\n",
    "mae = mean_absolute_error(wyniki_all_nba['Share'], wyniki_all_nba['Wynik all nba'])\n",
    "mae"
   ]
  },
  {
   "cell_type": "code",
   "execution_count": null,
   "id": "9224d4f8-e1cf-4f95-870a-25f4d90880f5",
   "metadata": {},
   "outputs": [],
   "source": [
    "from sklearn.metrics import ndcg_score\n",
    "import numpy as np\n",
    "true_scores = np.array(wyniki_all_nba['Share'])\n",
    "predicted_scores = np.array(wyniki_all_nba['Wynik all nba'])\n",
    "ndcg = ndcg_score([true_scores], [predicted_scores], k=15)\n",
    "ndcg"
   ]
  },
  {
   "cell_type": "code",
   "execution_count": null,
   "id": "51734425-94e8-432e-822f-f960ee49fed0",
   "metadata": {},
   "outputs": [],
   "source": [
    "wyniki_all_rookie"
   ]
  },
  {
   "cell_type": "markdown",
   "id": "a0f592e9-818e-4387-865d-22d3031001e6",
   "metadata": {},
   "source": [
    "## Test modelu regresji liniowej z sprawdzeniem czy G>65 dla all-nba-team"
   ]
  },
  {
   "cell_type": "code",
   "execution_count": null,
   "id": "c7e4fc9c-9bd8-496d-bf2c-3393172ae470",
   "metadata": {},
   "outputs": [],
   "source": [
    "import numpy as np\n",
    "import pandas as pd\n",
    "from sklearn.base import BaseEstimator, TransformerMixin\n",
    "from sklearn.pipeline import Pipeline\n",
    "from sklearn.linear_model import LinearRegression\n",
    "from sklearn.preprocessing import StandardScaler"
   ]
  },
  {
   "cell_type": "code",
   "execution_count": null,
   "id": "2fea3908-7eeb-4c1b-989d-93d924ca88d8",
   "metadata": {},
   "outputs": [],
   "source": [
    "class ReplaceLowGTransformer:\n",
    "    def fit(self, X, y=None):\n",
    "        return self\n",
    "    \n",
    "    def transform(self, X, y=None):\n",
    "        # Replace values in 'eFG%' column where 'G' < 65 with 0\n",
    "        X.loc[X['G'] < 65, ['FG', 'FGA', 'FG%', '3P',\n",
    "       '3PA', '3P%', '2P', '2PA', '2P%', 'eFG%', 'FT', 'FTA', 'FT%', 'ORB',\n",
    "       'DRB', 'TRB', 'AST', 'STL', 'BLK', 'TOV', 'PF', 'PTS']] = 0\n",
    "        return X\n",
    "\n",
    "# Create the pipeline\n",
    "pipeline = Pipeline(steps=[\n",
    "    ('replace_low_g', ReplaceLowGTransformer()),  # Custom transformer to replace values\n",
    "    ('scaler', StandardScaler()),  # Optional: Scale features\n",
    "    ('regressor', LinearRegression())  # Linear Regression model\n",
    "])\n"
   ]
  },
  {
   "cell_type": "code",
   "execution_count": null,
   "id": "b0fb3e59-3c5a-46ba-a617-1e4637f53cd8",
   "metadata": {},
   "outputs": [],
   "source": [
    "pipeline.fit(train_all_nba[p_all_nba],train_all_nba[\"Share\"])\n",
    "\n",
    "predykcja_all_nba = pipeline.predict(test_all_nba[p_all_nba])\n",
    "predykcja_all_nba= pd.DataFrame(predykcja_all_nba,columns =[\"Wynik all nba\"],index=test_all_nba.index)\n",
    "wyniki_all_nba = pd.concat([test_all_nba[[\"Player\",\"Share\"]],predykcja_all_nba ] ,axis=1).sort_values(\"Wynik all nba\",ascending = False).head(20)\n",
    "wyniki_all_nba"
   ]
  },
  {
   "cell_type": "code",
   "execution_count": null,
   "id": "24ade8d0-f0e4-4e16-9b9c-9aeb35be5cdc",
   "metadata": {},
   "outputs": [],
   "source": [
    "spearman_corr, _ = spearmanr(wyniki_all_nba['Share'], wyniki_all_nba['Wynik all nba'])\n",
    "spearman_corr"
   ]
  },
  {
   "cell_type": "code",
   "execution_count": null,
   "id": "2e12596a-667b-442f-851c-807af91e7da7",
   "metadata": {},
   "outputs": [],
   "source": [
    "mae = mean_absolute_error(wyniki_all_nba['Share'], wyniki_all_nba['Wynik all nba'])\n",
    "mae"
   ]
  },
  {
   "cell_type": "code",
   "execution_count": null,
   "id": "63518a4b-e375-4ab6-96ff-3ee768f95afe",
   "metadata": {},
   "outputs": [],
   "source": [
    "true_scores = np.array(wyniki_all_nba['Share'])\n",
    "predicted_scores = np.array(wyniki_all_nba['Wynik all nba'])\n",
    "ndcg = ndcg_score([true_scores], [predicted_scores], k=15)\n",
    "ndcg"
   ]
  },
  {
   "cell_type": "markdown",
   "id": "f453c3c1-6d0e-4041-960c-fcc029de2eaa",
   "metadata": {},
   "source": [
    "## Drzewo decyzyjne "
   ]
  },
  {
   "cell_type": "code",
   "execution_count": null,
   "id": "d7b875e8-f7b4-4af0-8464-2906ce0f0c9d",
   "metadata": {},
   "outputs": [],
   "source": [
    "from sklearn.tree import DecisionTreeRegressor\n",
    "pipeline = Pipeline(steps=[\n",
    "    ('replace_low_g', ReplaceLowGTransformer()),  # Custom transformer to replace values\n",
    "    ('scaler', StandardScaler()),  # Optional: Sca1le features\n",
    "    ('regressor', DecisionTreeRegressor(max_depth=15, min_samples_split=2))  # Linear Regression model\n",
    "])\n",
    "pipeline.fit(train_all_nba[p_all_nba],train_all_nba[\"Share\"])\n",
    "\n",
    "predykcja_all_nba = pipeline.predict(test_all_nba[p_all_nba])\n",
    "predykcja_all_nba= pd.DataFrame(predykcja_all_nba,columns =[\"Wynik all nba\"],index=test_all_nba.index)\n",
    "wyniki_all_nba = pd.concat([test_all_nba[[\"Player\",\"Share\"]],predykcja_all_nba ] ,axis=1).sort_values(\"Wynik all nba\",ascending = False).head(20)\n",
    "wyniki_all_nba"
   ]
  },
  {
   "cell_type": "code",
   "execution_count": null,
   "id": "518ae632-e8a9-46cd-9a29-dbadaff697ad",
   "metadata": {},
   "outputs": [],
   "source": [
    "spearman_corr, _ = spearmanr(wyniki_all_nba['Share'], wyniki_all_nba['Wynik all nba'])\n",
    "spearman_corr"
   ]
  },
  {
   "cell_type": "code",
   "execution_count": null,
   "id": "4de8dbd8-a0a5-49fc-847e-5dd843d677a2",
   "metadata": {},
   "outputs": [],
   "source": [
    "mae = mean_absolute_error(wyniki_all_nba['Share'], wyniki_all_nba['Wynik all nba'])\n",
    "mae"
   ]
  },
  {
   "cell_type": "code",
   "execution_count": null,
   "id": "a4c06c54-c9f1-4aaa-b41e-0d7ed63f612c",
   "metadata": {},
   "outputs": [],
   "source": [
    "true_scores = np.array(wyniki_all_nba['Share'])\n",
    "predicted_scores = np.array(wyniki_all_nba['Wynik all nba'])\n",
    "ndcg = ndcg_score([true_scores], [predicted_scores], k=15)\n",
    "ndcg"
   ]
  },
  {
   "cell_type": "markdown",
   "id": "736878e5-be4a-4906-9c9e-32de8d082e33",
   "metadata": {},
   "source": [
    "## Random forest"
   ]
  },
  {
   "cell_type": "code",
   "execution_count": null,
   "id": "d2c5fe5d-198a-425e-9f33-a4b244d682fc",
   "metadata": {},
   "outputs": [],
   "source": [
    "from sklearn.ensemble import RandomForestRegressor\n",
    "pipeline = Pipeline(steps=[\n",
    "    ('replace_low_g', ReplaceLowGTransformer()),  # Custom transformer to replace values\n",
    "    ('scaler', StandardScaler()),  # Optional: Sca1le features\n",
    "    ('regressor', RandomForestRegressor(n_estimators=100, max_depth=10))  # Linear Regression model\n",
    "])\n",
    "pipeline.fit(train_all_nba[p_all_nba],train_all_nba[\"Share\"])\n",
    "\n",
    "predykcja_all_nba = pipeline.predict(test_all_nba[p_all_nba])\n",
    "predykcja_all_nba= pd.DataFrame(predykcja_all_nba,columns =[\"Wynik all nba\"],index=test_all_nba.index)\n",
    "wyniki_all_nba = pd.concat([test_all_nba[[\"Player\",\"Share\"]],predykcja_all_nba ] ,axis=1).sort_values(\"Wynik all nba\",ascending = False).head(20)\n",
    "wyniki_all_nba"
   ]
  },
  {
   "cell_type": "code",
   "execution_count": null,
   "id": "4bfea236-7b14-4ebb-9548-59d9f348d657",
   "metadata": {},
   "outputs": [],
   "source": [
    "spearman_corr, _ = spearmanr(wyniki_all_nba['Share'], wyniki_all_nba['Wynik all nba'])\n",
    "spearman_corr"
   ]
  },
  {
   "cell_type": "code",
   "execution_count": null,
   "id": "cf2c3c06-84ae-406b-aac4-9b7d5157fa0f",
   "metadata": {},
   "outputs": [],
   "source": [
    "mae = mean_absolute_error(wyniki_all_nba['Share'], wyniki_all_nba['Wynik all nba'])\n",
    "mae"
   ]
  },
  {
   "cell_type": "code",
   "execution_count": null,
   "id": "1a52c3da-2263-49d0-830d-97eec4beb388",
   "metadata": {},
   "outputs": [],
   "source": [
    "true_scores = np.array(wyniki_all_nba['Share'])\n",
    "predicted_scores = np.array(wyniki_all_nba['Wynik all nba'])\n",
    "ndcg = ndcg_score([true_scores], [predicted_scores], k=15)\n",
    "ndcg"
   ]
  },
  {
   "cell_type": "code",
   "execution_count": null,
   "id": "337e4c2c-97c9-4c70-95f8-c60401ed6fa2",
   "metadata": {},
   "outputs": [],
   "source": [
    "from sklearn.svm import SVR\n",
    "pipeline = Pipeline(steps=[\n",
    "    ('replace_low_g', ReplaceLowGTransformer()),  # Custom transformer to replace values\n",
    "    ('scaler', StandardScaler()),  # Optional: Sca1le features\n",
    "    ('regressor', SVR(kernel='rbf', C=1.0, epsilon=0.1))  # Linear Regression model\n",
    "])\n",
    "pipeline.fit(train_all_nba[p_all_nba],train_all_nba[\"Share\"])\n",
    "\n",
    "predykcja_all_nba = pipeline.predict(test_all_nba[p_all_nba])\n",
    "predykcja_all_nba= pd.DataFrame(predykcja_all_nba,columns =[\"Wynik all nba\"],index=test_all_nba.index)\n",
    "wyniki_all_nba = pd.concat([test_all_nba[[\"Player\",\"Share\"]],predykcja_all_nba ] ,axis=1).sort_values(\"Wynik all nba\",ascending = False).head(20)\n",
    "wyniki_all_nba"
   ]
  },
  {
   "cell_type": "code",
   "execution_count": null,
   "id": "30381d67-bd5b-4e94-815a-23c43873ee4a",
   "metadata": {},
   "outputs": [],
   "source": [
    "spearman_corr, _ = spearmanr(wyniki_all_nba['Share'], wyniki_all_nba['Wynik all nba'])\n",
    "spearman_corr"
   ]
  },
  {
   "cell_type": "code",
   "execution_count": null,
   "id": "576f84e6-e11e-4878-9191-3e96a4735108",
   "metadata": {},
   "outputs": [],
   "source": [
    "mae = mean_absolute_error(wyniki_all_nba['Share'], wyniki_all_nba['Wynik all nba'])\n",
    "mae"
   ]
  },
  {
   "cell_type": "code",
   "execution_count": null,
   "id": "c551f7ba-6206-431d-8229-1c771aae6b4e",
   "metadata": {},
   "outputs": [],
   "source": [
    "true_scores = np.array(wyniki_all_nba['Share'])\n",
    "predicted_scores = np.array(wyniki_all_nba['Wynik all nba'])\n",
    "ndcg = ndcg_score([true_scores], [predicted_scores], k=15)\n",
    "ndcg"
   ]
  },
  {
   "cell_type": "markdown",
   "id": "ae0e606e-6642-4a47-bd22-821b9ce2a39c",
   "metadata": {},
   "source": [
    "## Gradient boosting \n"
   ]
  },
  {
   "cell_type": "code",
   "execution_count": null,
   "id": "763968a2-524e-4436-bee4-e22c13fe1723",
   "metadata": {},
   "outputs": [],
   "source": [
    "from sklearn.ensemble import GradientBoostingRegressor\n",
    "pipeline = Pipeline(steps=[\n",
    "    ('replace_low_g', ReplaceLowGTransformer()),  \n",
    "    ('scaler', StandardScaler()),  \n",
    "    ('regressor', GradientBoostingRegressor())  \n",
    "])"
   ]
  },
  {
   "cell_type": "code",
   "execution_count": null,
   "id": "d4a67a74-ca4d-4644-aab1-90cfa30639b3",
   "metadata": {},
   "outputs": [],
   "source": [
    "pipeline.fit(train_all_nba[p_all_nba],train_all_nba[\"Share\"])\n",
    "\n",
    "predykcja_all_nba = pipeline.predict(test_all_nba[p_all_nba])\n",
    "predykcja_all_nba= pd.DataFrame(predykcja_all_nba,columns =[\"Wynik all nba\"],index=test_all_nba.index)\n",
    "wyniki_all_nba = pd.concat([test_all_nba[[\"Player\",\"Share\"]],predykcja_all_nba ] ,axis=1).sort_values(\"Wynik all nba\",ascending = False).head(20)\n",
    "wyniki_all_nba"
   ]
  },
  {
   "cell_type": "code",
   "execution_count": null,
   "id": "05f32b5e-3451-49c0-b6ae-5e1e36d638bb",
   "metadata": {},
   "outputs": [],
   "source": [
    "spearman_corr, _ = spearmanr(wyniki_all_nba['Share'], wyniki_all_nba['Wynik all nba'])\n",
    "spearman_corr"
   ]
  },
  {
   "cell_type": "code",
   "execution_count": null,
   "id": "2146260a-d8a5-4e9b-818f-b8eee71ed54b",
   "metadata": {},
   "outputs": [],
   "source": [
    "mae = mean_absolute_error(wyniki_all_nba['Share'], wyniki_all_nba['Wynik all nba'])\n",
    "mae"
   ]
  },
  {
   "cell_type": "code",
   "execution_count": null,
   "id": "7b9b76ee-0c62-43dc-b968-d8f6b96fbdb9",
   "metadata": {},
   "outputs": [],
   "source": [
    "true_scores = np.array(wyniki_all_nba['Share'])\n",
    "predicted_scores = np.array(wyniki_all_nba['Wynik all nba'])\n",
    "ndcg = ndcg_score([true_scores], [predicted_scores], k=15)\n",
    "ndcg"
   ]
  },
  {
   "cell_type": "markdown",
   "id": "7e000f35-1939-454c-a717-7ee442510eed",
   "metadata": {},
   "source": [
    "## Ridge\n"
   ]
  },
  {
   "cell_type": "code",
   "execution_count": null,
   "id": "9016556e-9e03-448b-89ae-29dcb51072b1",
   "metadata": {},
   "outputs": [],
   "source": [
    "from sklearn.linear_model import Ridge\n",
    "model = Ridge(alpha=0.7)\n",
    "pipeline = Pipeline(steps=[\n",
    "    ('replace_low_g', ReplaceLowGTransformer()),  \n",
    "    ('scaler', StandardScaler()),  \n",
    "    ('regressor', Ridge())  \n",
    "])\n",
    "pipeline.fit(train_all_nba[p_all_nba],train_all_nba[\"Share\"])\n",
    "\n",
    "predykcja_all_nba = pipeline.predict(test_all_nba[p_all_nba])\n",
    "predykcja_all_nba= pd.DataFrame(predykcja_all_nba,columns =[\"Wynik all nba\"],index=test_all_nba.index)\n",
    "wyniki_all_nba = pd.concat([test_all_nba[[\"Player\",\"Share\"]],predykcja_all_nba ] ,axis=1).sort_values(\"Wynik all nba\",ascending = False).head(20)\n",
    "wyniki_all_nba"
   ]
  },
  {
   "cell_type": "code",
   "execution_count": null,
   "id": "256bde8b-bdc6-477f-8648-2a6980a8de23",
   "metadata": {},
   "outputs": [],
   "source": [
    "true_scores = np.array(wyniki_all_nba['Share'])\n",
    "predicted_scores = np.array(wyniki_all_nba['Wynik all nba'])\n",
    "ndcg = ndcg_score([true_scores], [predicted_scores], k=15)\n",
    "ndcg"
   ]
  },
  {
   "cell_type": "code",
   "execution_count": null,
   "id": "458b8fed-d607-4bf0-8241-56322cace5a4",
   "metadata": {},
   "outputs": [],
   "source": [
    "from sklearn.linear_model import Lasso\n",
    "pipeline = Pipeline(steps=[\n",
    "    ('replace_low_g', ReplaceLowGTransformer()),  \n",
    "    ('scaler', StandardScaler()),  \n",
    "    ('regressor', Lasso(alpha=0.5))  \n",
    "])\n",
    "pipeline.fit(train_all_nba[p_all_nba],train_all_nba[\"Share\"])\n",
    "\n",
    "predykcja_all_nba = pipeline.predict(test_all_nba[p_all_nba])\n",
    "predykcja_all_nba= pd.DataFrame(predykcja_all_nba,columns =[\"Wynik all nba\"],index=test_all_nba.index)\n",
    "wyniki_all_nba = pd.concat([test_all_nba[[\"Player\",\"Share\"]],predykcja_all_nba ] ,axis=1).sort_values(\"Wynik all nba\",ascending = False).head(20)\n",
    "wyniki_all_nba"
   ]
  },
  {
   "cell_type": "code",
   "execution_count": null,
   "id": "cf37569f-f6f5-47f2-9918-008a5ce2d1b0",
   "metadata": {},
   "outputs": [],
   "source": [
    "true_scores = np.array(wyniki_all_nba['Share'])\n",
    "predicted_scores = np.array(wyniki_all_nba['Wynik all nba'])\n",
    "ndcg = ndcg_score([true_scores], [predicted_scores], k=15)\n",
    "ndcg"
   ]
  },
  {
   "cell_type": "markdown",
   "id": "78d34288-9054-4335-97a4-dca17c33041d",
   "metadata": {},
   "source": [
    "## SVC"
   ]
  },
  {
   "cell_type": "code",
   "execution_count": null,
   "id": "9caa11e0-92ec-4c2d-8492-db2b9a6acecd",
   "metadata": {},
   "outputs": [],
   "source": [
    "from sklearn.svm import SVR\n",
    "pipeline = Pipeline(steps=[\n",
    "    ('replace_low_g', ReplaceLowGTransformer()),  \n",
    "    ('scaler', StandardScaler()),  \n",
    "    ('regressor', SVR(kernel='rbf', C=100, gamma=0.1))  \n",
    "])\n",
    "pipeline.fit(train_all_nba[p_all_nba],train_all_nba[\"Share\"])\n",
    "\n",
    "predykcja_all_nba = pipeline.predict(test_all_nba[p_all_nba])\n",
    "predykcja_all_nba= pd.DataFrame(predykcja_all_nba,columns =[\"Wynik all nba\"],index=test_all_nba.index)\n",
    "wyniki_all_nba = pd.concat([test_all_nba[[\"Player\",\"Share\"]],predykcja_all_nba ] ,axis=1).sort_values(\"Wynik all nba\",ascending = False).head(20)\n",
    "wyniki_all_nba"
   ]
  },
  {
   "cell_type": "code",
   "execution_count": null,
   "id": "bbfbd74b-a8b0-46ab-ae72-dbd816f9b428",
   "metadata": {},
   "outputs": [],
   "source": [
    "true_scores = np.array(wyniki_all_nba['Share'])\n",
    "predicted_scores = np.array(wyniki_all_nba['Wynik all nba'])\n",
    "ndcg = ndcg_score([true_scores], [predicted_scores], k=15)\n",
    "ndcg"
   ]
  },
  {
   "cell_type": "code",
   "execution_count": null,
   "id": "0701af9c-81b2-4711-b706-24a2dca734a8",
   "metadata": {},
   "outputs": [],
   "source": [
    "# # {'C': 1000, 'degree': 1, 'gamma': 0.9, 'kernel': 'poly'}\n",
    "# pipeline = Pipeline(steps=[\n",
    "#     ('replace_low_g', ReplaceLowGTransformer()),  \n",
    "#     ('scaler', StandardScaler()),  \n",
    "#     ('regressor', SVR(kernel='poly', degree =3,C=10, gamma=0.1))  \n",
    "# ])\n",
    "# pipeline.fit(train_all_nba[p_all_nba],train_all_nba[\"Share\"])\n",
    "\n",
    "# predykcja_all_nba = pipeline.predict(test_all_nba[p_all_nba])\n",
    "# predykcja_all_nba= pd.DataFrame(predykcja_all_nba,columns =[\"Wynik all nba\"],index=test_all_nba.index)\n",
    "# wyniki_all_nba = pd.concat([test_all_nba[[\"Player\",\"Share\"]],predykcja_all_nba ] ,axis=1).sort_values(\"Wynik all nba\",ascending = False).head(20)\n",
    "# wyniki_all_nba"
   ]
  },
  {
   "cell_type": "code",
   "execution_count": null,
   "id": "68839853-c641-4dbc-8331-6884814fb7f5",
   "metadata": {},
   "outputs": [],
   "source": [
    "# true_scores = np.array(wyniki_all_nba['Share'])\n",
    "# predicted_scores = np.array(wyniki_all_nba['Wynik all nba'])\n",
    "# ndcg = ndcg_score([true_scores], [predicted_scores], k=15)\n",
    "# ndcg"
   ]
  },
  {
   "cell_type": "code",
   "execution_count": null,
   "id": "2e7968e3-96cb-4ebe-b190-287c1fcca4ad",
   "metadata": {},
   "outputs": [],
   "source": [
    "from sklearn.ensemble import VotingClassifier\n",
    "from sklearn.svm import SVC\n",
    "from sklearn.svm import LinearSVC\n",
    "from sklearn.ensemble import VotingRegressor\n",
    "pipeline = Pipeline([\n",
    "    ('standard_scaler', StandardScaler()),\n",
    "    ('regressor', VotingRegressor([\n",
    "        ('SVR', SVR(C=100, degree=1, gamma='auto')),\n",
    "        ('GBR', GradientBoostingRegressor())\n",
    "    ]))\n",
    "])\n",
    "pipeline.fit(train_all_nba[p_all_nba],train_all_nba[\"Share\"])\n",
    "\n",
    "predykcja_all_nba = pipeline.predict(test_all_nba[p_all_nba])\n",
    "predykcja_all_nba= pd.DataFrame(predykcja_all_nba,columns =[\"Wynik all nba\"],index=test_all_nba.index)\n",
    "wyniki_all_nba = pd.concat([test_all_nba[[\"Player\",\"Share\"]],predykcja_all_nba ] ,axis=1).sort_values(\"Wynik all nba\",ascending = False).head(20)\n",
    "wyniki_all_nba"
   ]
  },
  {
   "cell_type": "code",
   "execution_count": null,
   "id": "ec600d8e-f4bd-4c7a-8472-a848872d985a",
   "metadata": {},
   "outputs": [],
   "source": [
    "true_scores = np.array(wyniki_all_nba['Share'])\n",
    "predicted_scores = np.array(wyniki_all_nba['Wynik all nba'])\n",
    "ndcg = ndcg_score([true_scores], [predicted_scores], k=15)\n",
    "ndcg"
   ]
  },
  {
   "cell_type": "code",
   "execution_count": null,
   "id": "cdc8f64f-5dab-4685-b3e5-b9f6ff3437d2",
   "metadata": {},
   "outputs": [],
   "source": []
  }
 ],
 "metadata": {
  "kernelspec": {
   "display_name": "Python 3 (ipykernel)",
   "language": "python",
   "name": "python3"
  },
  "language_info": {
   "codemirror_mode": {
    "name": "ipython",
    "version": 3
   },
   "file_extension": ".py",
   "mimetype": "text/x-python",
   "name": "python",
   "nbconvert_exporter": "python",
   "pygments_lexer": "ipython3",
   "version": "3.10.12"
  }
 },
 "nbformat": 4,
 "nbformat_minor": 5
}
